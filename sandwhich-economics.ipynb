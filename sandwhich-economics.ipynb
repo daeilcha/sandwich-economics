{
 "cells": [
  {
   "cell_type": "markdown",
   "metadata": {},
   "source": [
    "# The Economics of Sandwich Attacks\n",
    "This is an analysis of sandwich attack economics on constant product market makers like Uniswap. I ultimately examine the optimal order of sandwich attackers if they were to cooperate.  \n",
    "\n",
    "Extensions for the future:  \n",
    "- Model other dexes (https://ethereum.stackexchange.com/a/107109)  \n",
    "- If attackers are purely competitive, and the number of competitors is random with each spamming the block with bots to execute the trade, calculate the optimal number of bots (and gas) one should use to maximize their probability of success.\n"
   ]
  },
  {
   "cell_type": "markdown",
   "metadata": {},
   "source": [
    "# Dependencies"
   ]
  },
  {
   "cell_type": "code",
   "execution_count": 15,
   "metadata": {},
   "outputs": [
    {
     "data": {
      "application/javascript": "(function(root) {\n  function now() {\n    return new Date();\n  }\n\n  var force = true;\n\n  if (typeof root._bokeh_onload_callbacks === \"undefined\" || force === true) {\n    root._bokeh_onload_callbacks = [];\n    root._bokeh_is_loading = undefined;\n  }\n\n  if (typeof (root._bokeh_timeout) === \"undefined\" || force === true) {\n    root._bokeh_timeout = Date.now() + 5000;\n    root._bokeh_failed_load = false;\n  }\n\n  function run_callbacks() {\n    try {\n      root._bokeh_onload_callbacks.forEach(function(callback) {\n        if (callback != null)\n          callback();\n      });\n    } finally {\n      delete root._bokeh_onload_callbacks\n    }\n    console.debug(\"Bokeh: all callbacks have finished\");\n  }\n\n  function load_libs(css_urls, js_urls, js_modules, callback) {\n    if (css_urls == null) css_urls = [];\n    if (js_urls == null) js_urls = [];\n    if (js_modules == null) js_modules = [];\n\n    root._bokeh_onload_callbacks.push(callback);\n    if (root._bokeh_is_loading > 0) {\n      console.debug(\"Bokeh: BokehJS is being loaded, scheduling callback at\", now());\n      return null;\n    }\n    if (js_urls.length === 0 && js_modules.length === 0) {\n      run_callbacks();\n      return null;\n    }\n    console.debug(\"Bokeh: BokehJS not loaded, scheduling load and callback at\", now());\n\n    function on_load() {\n      root._bokeh_is_loading--;\n      if (root._bokeh_is_loading === 0) {\n        console.debug(\"Bokeh: all BokehJS libraries/stylesheets loaded\");\n        run_callbacks()\n      }\n    }\n\n    function on_error() {\n      console.error(\"failed to load \" + url);\n    }\n\n    for (var i = 0; i < css_urls.length; i++) {\n      var url = css_urls[i];\n      const element = document.createElement(\"link\");\n      element.onload = on_load;\n      element.onerror = on_error;\n      element.rel = \"stylesheet\";\n      element.type = \"text/css\";\n      element.href = url;\n      console.debug(\"Bokeh: injecting link tag for BokehJS stylesheet: \", url);\n      document.body.appendChild(element);\n    }\n\n    var skip = [];\n    if (window.requirejs) {\n      window.requirejs.config({'packages': {}, 'paths': {'gridstack': 'https://cdn.jsdelivr.net/npm/gridstack@4.2.5/dist/gridstack-h5', 'notyf': 'https://cdn.jsdelivr.net/npm/notyf@3/notyf.min'}, 'shim': {'gridstack': {'exports': 'GridStack'}}});\n      require([\"gridstack\"], function(GridStack) {\n\twindow.GridStack = GridStack\n\ton_load()\n      })\n      require([\"notyf\"], function() {\n\ton_load()\n      })\n      root._bokeh_is_loading = css_urls.length + 2;\n    } else {\n      root._bokeh_is_loading = css_urls.length + js_urls.length + js_modules.length;\n    }    if (((window['GridStack'] !== undefined) && (!(window['GridStack'] instanceof HTMLElement))) || window.requirejs) {\n      var urls = ['https://cdn.jsdelivr.net/npm/gridstack@4.2.5/dist/gridstack-h5.js'];\n      for (var i = 0; i < urls.length; i++) {\n        skip.push(urls[i])\n      }\n    }    if (((window['Notyf'] !== undefined) && (!(window['Notyf'] instanceof HTMLElement))) || window.requirejs) {\n      var urls = ['https://cdn.jsdelivr.net/npm/notyf@3/notyf.min.js'];\n      for (var i = 0; i < urls.length; i++) {\n        skip.push(urls[i])\n      }\n    }    for (var i = 0; i < js_urls.length; i++) {\n      var url = js_urls[i];\n      if (skip.indexOf(url) >= 0) {\n\tif (!window.requirejs) {\n\t  on_load();\n\t}\n\tcontinue;\n      }\n      var element = document.createElement('script');\n      element.onload = on_load;\n      element.onerror = on_error;\n      element.async = false;\n      element.src = url;\n      console.debug(\"Bokeh: injecting script tag for BokehJS library: \", url);\n      document.head.appendChild(element);\n    }\n    for (var i = 0; i < js_modules.length; i++) {\n      var url = js_modules[i];\n      if (skip.indexOf(url) >= 0) {\n\tif (!window.requirejs) {\n\t  on_load();\n\t}\n\tcontinue;\n      }\n      var element = document.createElement('script');\n      element.onload = on_load;\n      element.onerror = on_error;\n      element.async = false;\n      element.src = url;\n      element.type = \"module\";\n      console.debug(\"Bokeh: injecting script tag for BokehJS library: \", url);\n      document.head.appendChild(element);\n    }\n    if (!js_urls.length && !js_modules.length) {\n      on_load()\n    }\n  };\n\n  function inject_raw_css(css) {\n    const element = document.createElement(\"style\");\n    element.appendChild(document.createTextNode(css));\n    document.body.appendChild(element);\n  }\n\n  var js_urls = [\"https://cdn.bokeh.org/bokeh/release/bokeh-2.4.3.min.js\", \"https://cdn.bokeh.org/bokeh/release/bokeh-gl-2.4.3.min.js\", \"https://cdn.bokeh.org/bokeh/release/bokeh-widgets-2.4.3.min.js\", \"https://cdn.bokeh.org/bokeh/release/bokeh-tables-2.4.3.min.js\", \"https://cdn.bokeh.org/bokeh/release/bokeh-mathjax-2.4.3.min.js\", \"https://cdn.jsdelivr.net/npm/notyf@3/notyf.min.js\", \"https://unpkg.com/@holoviz/panel@0.13.1/dist/panel.min.js\"];\n  var js_modules = [];\n  var css_urls = [\"https://cdn.jsdelivr.net/npm/notyf@3/notyf.min.css\", \"https://cdnjs.cloudflare.com/ajax/libs/font-awesome/5.15.1/css/all.min.css\", \"https://unpkg.com/@holoviz/panel@0.13.1/dist/css/debugger.css\", \"https://unpkg.com/@holoviz/panel@0.13.1/dist/css/alerts.css\", \"https://unpkg.com/@holoviz/panel@0.13.1/dist/css/card.css\", \"https://unpkg.com/@holoviz/panel@0.13.1/dist/css/widgets.css\", \"https://unpkg.com/@holoviz/panel@0.13.1/dist/css/markdown.css\", \"https://unpkg.com/@holoviz/panel@0.13.1/dist/css/json.css\", \"https://unpkg.com/@holoviz/panel@0.13.1/dist/css/loading.css\", \"https://unpkg.com/@holoviz/panel@0.13.1/dist/css/dataframe.css\"];\n  var inline_js = [    function(Bokeh) {\n      inject_raw_css(\"\\n    .bk.pn-loading.arcs:before {\\n      background-image: url(\\\"data:image/svg+xml;base64,PHN2ZyB4bWxucz0iaHR0cDovL3d3dy53My5vcmcvMjAwMC9zdmciIHhtbG5zOnhsaW5rPSJodHRwOi8vd3d3LnczLm9yZy8xOTk5L3hsaW5rIiBzdHlsZT0ibWFyZ2luOiBhdXRvOyBiYWNrZ3JvdW5kOiBub25lOyBkaXNwbGF5OiBibG9jazsgc2hhcGUtcmVuZGVyaW5nOiBhdXRvOyIgdmlld0JveD0iMCAwIDEwMCAxMDAiIHByZXNlcnZlQXNwZWN0UmF0aW89InhNaWRZTWlkIj4gIDxjaXJjbGUgY3g9IjUwIiBjeT0iNTAiIHI9IjMyIiBzdHJva2Utd2lkdGg9IjgiIHN0cm9rZT0iI2MzYzNjMyIgc3Ryb2tlLWRhc2hhcnJheT0iNTAuMjY1NDgyNDU3NDM2NjkgNTAuMjY1NDgyNDU3NDM2NjkiIGZpbGw9Im5vbmUiIHN0cm9rZS1saW5lY2FwPSJyb3VuZCI+ICAgIDxhbmltYXRlVHJhbnNmb3JtIGF0dHJpYnV0ZU5hbWU9InRyYW5zZm9ybSIgdHlwZT0icm90YXRlIiByZXBlYXRDb3VudD0iaW5kZWZpbml0ZSIgZHVyPSIxcyIga2V5VGltZXM9IjA7MSIgdmFsdWVzPSIwIDUwIDUwOzM2MCA1MCA1MCI+PC9hbmltYXRlVHJhbnNmb3JtPiAgPC9jaXJjbGU+PC9zdmc+\\\");\\n      background-size: auto calc(min(50%, 400px));\\n    }\\n    \");\n    },    function(Bokeh) {\n      Bokeh.set_log_level(\"info\");\n    },\nfunction(Bokeh) {} // ensure no trailing comma for IE\n  ];\n\n  function run_inline_js() {\n    if ((root.Bokeh !== undefined) || (force === true)) {\n      for (var i = 0; i < inline_js.length; i++) {\n        inline_js[i].call(root, root.Bokeh);\n      }} else if (Date.now() < root._bokeh_timeout) {\n      setTimeout(run_inline_js, 100);\n    } else if (!root._bokeh_failed_load) {\n      console.log(\"Bokeh: BokehJS failed to load within specified timeout.\");\n      root._bokeh_failed_load = true;\n    }\n  }\n\n  if (root._bokeh_is_loading === 0) {\n    console.debug(\"Bokeh: BokehJS loaded, going straight to plotting\");\n    run_inline_js();\n  } else {\n    load_libs(css_urls, js_urls, js_modules, function() {\n      console.debug(\"Bokeh: BokehJS plotting callback run at\", now());\n      run_inline_js();\n    });\n  }\n}(window));",
      "application/vnd.holoviews_load.v0+json": ""
     },
     "metadata": {},
     "output_type": "display_data"
    },
    {
     "data": {
      "application/javascript": "\nif ((window.PyViz === undefined) || (window.PyViz instanceof HTMLElement)) {\n  window.PyViz = {comms: {}, comm_status:{}, kernels:{}, receivers: {}, plot_index: []}\n}\n\n\n    function JupyterCommManager() {\n    }\n\n    JupyterCommManager.prototype.register_target = function(plot_id, comm_id, msg_handler) {\n      if (window.comm_manager || ((window.Jupyter !== undefined) && (Jupyter.notebook.kernel != null))) {\n        var comm_manager = window.comm_manager || Jupyter.notebook.kernel.comm_manager;\n        comm_manager.register_target(comm_id, function(comm) {\n          comm.on_msg(msg_handler);\n        });\n      } else if ((plot_id in window.PyViz.kernels) && (window.PyViz.kernels[plot_id])) {\n        window.PyViz.kernels[plot_id].registerCommTarget(comm_id, function(comm) {\n          comm.onMsg = msg_handler;\n        });\n      } else if (typeof google != 'undefined' && google.colab.kernel != null) {\n        google.colab.kernel.comms.registerTarget(comm_id, (comm) => {\n          var messages = comm.messages[Symbol.asyncIterator]();\n          function processIteratorResult(result) {\n            var message = result.value;\n            console.log(message)\n            var content = {data: message.data, comm_id};\n            var buffers = []\n            for (var buffer of message.buffers || []) {\n              buffers.push(new DataView(buffer))\n            }\n            var metadata = message.metadata || {};\n            var msg = {content, buffers, metadata}\n            msg_handler(msg);\n            return messages.next().then(processIteratorResult);\n          }\n          return messages.next().then(processIteratorResult);\n        })\n      }\n    }\n\n    JupyterCommManager.prototype.get_client_comm = function(plot_id, comm_id, msg_handler) {\n      if (comm_id in window.PyViz.comms) {\n        return window.PyViz.comms[comm_id];\n      } else if (window.comm_manager || ((window.Jupyter !== undefined) && (Jupyter.notebook.kernel != null))) {\n        var comm_manager = window.comm_manager || Jupyter.notebook.kernel.comm_manager;\n        var comm = comm_manager.new_comm(comm_id, {}, {}, {}, comm_id);\n        if (msg_handler) {\n          comm.on_msg(msg_handler);\n        }\n      } else if ((plot_id in window.PyViz.kernels) && (window.PyViz.kernels[plot_id])) {\n        var comm = window.PyViz.kernels[plot_id].connectToComm(comm_id);\n        comm.open();\n        if (msg_handler) {\n          comm.onMsg = msg_handler;\n        }\n      } else if (typeof google != 'undefined' && google.colab.kernel != null) {\n        var comm_promise = google.colab.kernel.comms.open(comm_id)\n        comm_promise.then((comm) => {\n          window.PyViz.comms[comm_id] = comm;\n          if (msg_handler) {\n            var messages = comm.messages[Symbol.asyncIterator]();\n            function processIteratorResult(result) {\n              var message = result.value;\n              var content = {data: message.data};\n              var metadata = message.metadata || {comm_id};\n              var msg = {content, metadata}\n              msg_handler(msg);\n              return messages.next().then(processIteratorResult);\n            }\n            return messages.next().then(processIteratorResult);\n          }\n        }) \n        var sendClosure = (data, metadata, buffers, disposeOnDone) => {\n          return comm_promise.then((comm) => {\n            comm.send(data, metadata, buffers, disposeOnDone);\n          });\n        };\n        var comm = {\n          send: sendClosure\n        };\n      }\n      window.PyViz.comms[comm_id] = comm;\n      return comm;\n    }\n    window.PyViz.comm_manager = new JupyterCommManager();\n    \n\n\nvar JS_MIME_TYPE = 'application/javascript';\nvar HTML_MIME_TYPE = 'text/html';\nvar EXEC_MIME_TYPE = 'application/vnd.holoviews_exec.v0+json';\nvar CLASS_NAME = 'output';\n\n/**\n * Render data to the DOM node\n */\nfunction render(props, node) {\n  var div = document.createElement(\"div\");\n  var script = document.createElement(\"script\");\n  node.appendChild(div);\n  node.appendChild(script);\n}\n\n/**\n * Handle when a new output is added\n */\nfunction handle_add_output(event, handle) {\n  var output_area = handle.output_area;\n  var output = handle.output;\n  if ((output.data == undefined) || (!output.data.hasOwnProperty(EXEC_MIME_TYPE))) {\n    return\n  }\n  var id = output.metadata[EXEC_MIME_TYPE][\"id\"];\n  var toinsert = output_area.element.find(\".\" + CLASS_NAME.split(' ')[0]);\n  if (id !== undefined) {\n    var nchildren = toinsert.length;\n    var html_node = toinsert[nchildren-1].children[0];\n    html_node.innerHTML = output.data[HTML_MIME_TYPE];\n    var scripts = [];\n    var nodelist = html_node.querySelectorAll(\"script\");\n    for (var i in nodelist) {\n      if (nodelist.hasOwnProperty(i)) {\n        scripts.push(nodelist[i])\n      }\n    }\n\n    scripts.forEach( function (oldScript) {\n      var newScript = document.createElement(\"script\");\n      var attrs = [];\n      var nodemap = oldScript.attributes;\n      for (var j in nodemap) {\n        if (nodemap.hasOwnProperty(j)) {\n          attrs.push(nodemap[j])\n        }\n      }\n      attrs.forEach(function(attr) { newScript.setAttribute(attr.name, attr.value) });\n      newScript.appendChild(document.createTextNode(oldScript.innerHTML));\n      oldScript.parentNode.replaceChild(newScript, oldScript);\n    });\n    if (JS_MIME_TYPE in output.data) {\n      toinsert[nchildren-1].children[1].textContent = output.data[JS_MIME_TYPE];\n    }\n    output_area._hv_plot_id = id;\n    if ((window.Bokeh !== undefined) && (id in Bokeh.index)) {\n      window.PyViz.plot_index[id] = Bokeh.index[id];\n    } else {\n      window.PyViz.plot_index[id] = null;\n    }\n  } else if (output.metadata[EXEC_MIME_TYPE][\"server_id\"] !== undefined) {\n    var bk_div = document.createElement(\"div\");\n    bk_div.innerHTML = output.data[HTML_MIME_TYPE];\n    var script_attrs = bk_div.children[0].attributes;\n    for (var i = 0; i < script_attrs.length; i++) {\n      toinsert[toinsert.length - 1].childNodes[1].setAttribute(script_attrs[i].name, script_attrs[i].value);\n    }\n    // store reference to server id on output_area\n    output_area._bokeh_server_id = output.metadata[EXEC_MIME_TYPE][\"server_id\"];\n  }\n}\n\n/**\n * Handle when an output is cleared or removed\n */\nfunction handle_clear_output(event, handle) {\n  var id = handle.cell.output_area._hv_plot_id;\n  var server_id = handle.cell.output_area._bokeh_server_id;\n  if (((id === undefined) || !(id in PyViz.plot_index)) && (server_id !== undefined)) { return; }\n  var comm = window.PyViz.comm_manager.get_client_comm(\"hv-extension-comm\", \"hv-extension-comm\", function () {});\n  if (server_id !== null) {\n    comm.send({event_type: 'server_delete', 'id': server_id});\n    return;\n  } else if (comm !== null) {\n    comm.send({event_type: 'delete', 'id': id});\n  }\n  delete PyViz.plot_index[id];\n  if ((window.Bokeh !== undefined) & (id in window.Bokeh.index)) {\n    var doc = window.Bokeh.index[id].model.document\n    doc.clear();\n    const i = window.Bokeh.documents.indexOf(doc);\n    if (i > -1) {\n      window.Bokeh.documents.splice(i, 1);\n    }\n  }\n}\n\n/**\n * Handle kernel restart event\n */\nfunction handle_kernel_cleanup(event, handle) {\n  delete PyViz.comms[\"hv-extension-comm\"];\n  window.PyViz.plot_index = {}\n}\n\n/**\n * Handle update_display_data messages\n */\nfunction handle_update_output(event, handle) {\n  handle_clear_output(event, {cell: {output_area: handle.output_area}})\n  handle_add_output(event, handle)\n}\n\nfunction register_renderer(events, OutputArea) {\n  function append_mime(data, metadata, element) {\n    // create a DOM node to render to\n    var toinsert = this.create_output_subarea(\n    metadata,\n    CLASS_NAME,\n    EXEC_MIME_TYPE\n    );\n    this.keyboard_manager.register_events(toinsert);\n    // Render to node\n    var props = {data: data, metadata: metadata[EXEC_MIME_TYPE]};\n    render(props, toinsert[0]);\n    element.append(toinsert);\n    return toinsert\n  }\n\n  events.on('output_added.OutputArea', handle_add_output);\n  events.on('output_updated.OutputArea', handle_update_output);\n  events.on('clear_output.CodeCell', handle_clear_output);\n  events.on('delete.Cell', handle_clear_output);\n  events.on('kernel_ready.Kernel', handle_kernel_cleanup);\n\n  OutputArea.prototype.register_mime_type(EXEC_MIME_TYPE, append_mime, {\n    safe: true,\n    index: 0\n  });\n}\n\nif (window.Jupyter !== undefined) {\n  try {\n    var events = require('base/js/events');\n    var OutputArea = require('notebook/js/outputarea').OutputArea;\n    if (OutputArea.prototype.mime_types().indexOf(EXEC_MIME_TYPE) == -1) {\n      register_renderer(events, OutputArea);\n    }\n  } catch(err) {\n  }\n}\n",
      "application/vnd.holoviews_load.v0+json": ""
     },
     "metadata": {},
     "output_type": "display_data"
    },
    {
     "data": {
      "text/html": [
       "<style>.bk-root, .bk-root .bk:before, .bk-root .bk:after {\n",
       "  font-family: var(--jp-ui-font-size1);\n",
       "  font-size: var(--jp-ui-font-size1);\n",
       "  color: var(--jp-ui-font-color1);\n",
       "}\n",
       "</style>"
      ]
     },
     "metadata": {},
     "output_type": "display_data"
    }
   ],
   "source": [
    "import pandas as pd\n",
    "import numpy as np\n",
    "\n",
    "import matplotlib.pyplot as plt\n",
    "from matplotlib.figure import Figure\n",
    "from matplotlib.backends.backend_agg import FigureCanvas\n",
    "from matplotlib.offsetbox import AnchoredText\n",
    "from matplotlib.ticker import EngFormatter\n",
    "\n",
    "import param\n",
    "\n",
    "import panel as pn\n",
    "import panel.widgets as pnw\n",
    "pn.extension()\n",
    "\n",
    "# import os\n",
    "# from web3 import Web3, HTTPProvider"
   ]
  },
  {
   "cell_type": "code",
   "execution_count": 2,
   "metadata": {},
   "outputs": [],
   "source": [
    "# # connect to node\n",
    "# web3_var = os.environ.get('WEB3_PROVIDER_URI') # this environment var points to my node\n",
    "# w3 = Web3(Web3.HTTPProvider(web3_var))\n",
    "# w3.isConnected()"
   ]
  },
  {
   "cell_type": "markdown",
   "metadata": {},
   "source": [
    "# Price Impact of a Single Trade\n",
    "Let's first look at how a trade of A tokens in exchange for B tokens affects the price of B in the pool.  \n",
    "Note that the fee is in decimals."
   ]
  },
  {
   "cell_type": "code",
   "execution_count": 47,
   "metadata": {},
   "outputs": [
    {
     "data": {
      "application/vnd.jupyter.widget-view+json": {
       "model_id": "09adda33b21d4bd986edcef23023b1e0",
       "version_major": 2,
       "version_minor": 0
      },
      "text/plain": [
       "BokehModel(combine_events=True, render_bundle={'docs_json': {'a6e95dcd-c554-47ce-b2f7-ac5f0abca127': {'defs': …"
      ]
     },
     "metadata": {},
     "output_type": "display_data"
    },
    {
     "data": {
      "text/html": [
       "<div style=\"display: none\"></div>"
      ],
      "text/plain": [
       "Column\n",
       "    [0] Column\n",
       "        [0] IntSlider(end=1000000, name='a_reserve', start=1000, value=1000000)\n",
       "        [1] IntSlider(end=1000000, name='b_reserve', start=1000, value=1000000)\n",
       "        [2] FloatSlider(end=0.01, format='1[.]000', name='fee', step=0.001)\n",
       "    [1] Row\n",
       "        [0] Matplotlib(Figure, name='interactive00551')"
      ]
     },
     "execution_count": 47,
     "metadata": {},
     "output_type": "execute_result"
    }
   ],
   "source": [
    "def swap(a_traded, a_reserves_i, b_reserves_i, fee):\n",
    "    '''\n",
    "    returns:\n",
    "    - B tokens received in exchange for putting token A into LP\n",
    "    - price impact on B (as a percent of b, expressed in decimals)\n",
    "    - price impact on A\n",
    "    '''\n",
    "    a_traded = a_traded * (1 - fee)\n",
    "\n",
    "    cp = a_reserves_i * b_reserves_i\n",
    "\n",
    "    b_reserves_f = cp / (a_reserves_i + a_traded)\n",
    "    b_received = b_reserves_i - b_reserves_f\n",
    "\n",
    "    price_paid_per_b = a_traded / b_received\n",
    "    price_impact_b = a_traded / (a_reserves_i + a_traded) # equals 1 - (a_reserves_i/b_reserves_i) / price_paid_per_b\n",
    "    price_impact_a = b_received / (b_reserves_i + b_received)\n",
    "\n",
    "    return b_received, price_impact_b, price_impact_a\n",
    "\n",
    "def pn_plot(impacts):\n",
    "    fig = Figure()\n",
    "    fig.set_size_inches(12, 8)\n",
    "    FigureCanvas(fig)\n",
    "    ax = fig.add_subplot()\n",
    "    ax.set_xlabel('A tokens input to the pool')\n",
    "    impacts.plot(ax=ax)\n",
    "    return fig\n",
    "\n",
    "def px_impact_curve(a_reserve=1_000_000, b_reserve=1_000_000, fee=0.000, view_fn=pn_plot):\n",
    "    a_ins = np.arange(1, a_reserve * 0.95, a_reserve/100) # create array of marginal A tokens to be input into the pool\n",
    "    impacts = [swap(a, a_reserve, b_reserve, fee)[1] for a in a_ins]\n",
    "    df_ = pd.DataFrame(data=impacts, index=a_ins, columns=['Price impact on B tokens'])\n",
    "    return view_fn(df_)\n",
    "\n",
    "float_slider = pn.widgets.FloatSlider(name='fee', format='1[.]000', start=0.00, end=0.010, step=0.001, value=0.00)\n",
    "kw = dict(a_reserve=(1_000, 1_000_000), b_reserve=(1_000, 1_000_000), fee=float_slider) #(0.000, 0.1))\n",
    "pn.interact(px_impact_curve, **kw)"
   ]
  },
  {
   "cell_type": "markdown",
   "metadata": {},
   "source": [
    "Notice how the price impact on `B` tokens does not depend on the `reserves of B` at all! Instead, it depends on the number of `A` tokens traded relative to the `reserves of A`, as well as the `fee`. "
   ]
  },
  {
   "cell_type": "markdown",
   "metadata": {},
   "source": [
    "# Single Sandwich Attack\n",
    "Now let's look at how a single sandwich attack's return is impacted by different parameters of a pool."
   ]
  },
  {
   "cell_type": "code",
   "execution_count": 6,
   "metadata": {},
   "outputs": [],
   "source": [
    "def sandwich(reserves_a, reserves_b, fee, whale, a_tokens_invested):\n",
    "    '''\n",
    "    Returns: \n",
    "    - theoretical price impact of whale trade (without sandwich attack)\n",
    "    - A tokens gained by sandwich attacker\n",
    "    - % return of those A tokens gained\n",
    "    - adverse impact on the whale trader\n",
    "    '''\n",
    "    # step 1: monitor whale trade; model price impact\n",
    "    # whale trades A tokens for B tokens\n",
    "    b_received_theo, price_impact_b_theo, price_impact_a_theo = swap(whale, reserves_a, reserves_b, fee)\n",
    "    # print(f\"Theoretical impact from whale trade: {price_impact_theoretical*100:,.3f}%\")\n",
    "\n",
    "    # step 2: model front run tx\n",
    "    # a_tokens_invested is the sandwich attacker's initial investment\n",
    "    b_received_front = swap(a_tokens_invested, reserves_a, reserves_b, fee)[0]\n",
    "    reserves_a_after_front = reserves_a + a_tokens_invested\n",
    "    reserves_b_after_front = reserves_b - b_received_front\n",
    "\n",
    "    # step 3: model whale impact after front run tx\n",
    "    b_received_whale = swap(whale, reserves_a_after_front, reserves_b_after_front, fee)[0]\n",
    "    reserves_a_after_whale = reserves_a_after_front + whale\n",
    "    reserves_b_after_whale = reserves_b_after_front - b_received_whale\n",
    "\n",
    "    # step 4: model back run tx -- trading B tokens back to A tokens\n",
    "    a_received_back = swap(b_received_front, reserves_b_after_whale, reserves_a_after_whale, fee)[0]\n",
    "    reserves_a_after_back = reserves_a_after_whale - a_received_back\n",
    "    reserves_b_after_back = reserves_b_after_whale + b_received_front\n",
    "\n",
    "    # step 5: calculate profit\n",
    "    a_tokens_gained = a_received_back - a_tokens_invested\n",
    "    a_return = a_tokens_gained/a_tokens_invested\n",
    "    # print(f'A tokens gained: {a_tokens_gained:,.2f}')\n",
    "    # print(f'Percent return: {a_return:,.3f}%')\n",
    "\n",
    "    # step 6: calculate max gas fee WTP (willingness to pay)\n",
    "    fee_wtp = a_tokens_gained\n",
    "\n",
    "    # step 7: calculate adverse impact on whale trade\n",
    "    adverse_impact = b_received_whale - b_received_theo\n",
    "    # print(f'Adverse impact on whale (in B tokens): {adverse_impact:,.2f}')\n",
    "\n",
    "    # print(reserves_a_after_front, reserves_a_after_whale, reserves_a_after_back)\n",
    "\n",
    "    return price_impact_b_theo, price_impact_a_theo, a_tokens_gained, a_return, adverse_impact"
   ]
  },
  {
   "cell_type": "code",
   "execution_count": 46,
   "metadata": {},
   "outputs": [
    {
     "data": {
      "application/vnd.jupyter.widget-view+json": {
       "model_id": "779d3d392b244e07bb1810399e4fe47d",
       "version_major": 2,
       "version_minor": 0
      },
      "text/plain": [
       "BokehModel(combine_events=True, render_bundle={'docs_json': {'171ef877-284c-4d90-b9d6-d068872b9013': {'defs': …"
      ]
     },
     "metadata": {},
     "output_type": "display_data"
    },
    {
     "data": {
      "text/html": [
       "<div style=\"display: none\"></div>"
      ],
      "text/plain": [
       "Column\n",
       "    [0] Column\n",
       "        [0] IntSlider(end=1000000, name='a_reserve', start=1000, value=1000000)\n",
       "        [1] IntSlider(end=1000000, name='b_reserve', start=1000, value=1000000)\n",
       "        [2] IntSlider(end=100000, name='whale', start=100, value=10000)\n",
       "        [3] FloatSlider(end=0.01, format='1[.]000', name='fee', step=0.001)\n",
       "    [1] Row\n",
       "        [0] Matplotlib(Figure, name='interactive00540')"
      ]
     },
     "execution_count": 46,
     "metadata": {},
     "output_type": "execute_result"
    }
   ],
   "source": [
    "def single_sand_plot(returns):\n",
    "    fig = Figure()\n",
    "    fig.set_size_inches(12, 8)\n",
    "    FigureCanvas(fig)\n",
    "    ax = fig.add_subplot()\n",
    "    ax.set_xlabel('A tokens traded by searcher')\n",
    "    returns.plot(ax=ax)\n",
    "    return fig\n",
    "\n",
    "def single_sand_curve(a_reserve=1_000_000, b_reserve=1_000_000, whale=10_000, fee=0.0000, view_fn=single_sand_plot):\n",
    "    a_ins = np.arange(10, a_reserve*0.95, 100).tolist()\n",
    "    returns = [sandwich(a_reserve, b_reserve, fee, whale, a)[3] for a in a_ins]\n",
    "    df_ = pd.DataFrame(data=returns, index=a_ins, columns=['Returns to searcher'])\n",
    "    return view_fn(df_)\n",
    "\n",
    "# set ranges of parameters\n",
    "float_slider = pn.widgets.FloatSlider(name='fee', format='1[.]000', start=0.00, end=0.010, step=0.001, value=0.00)\n",
    "kw = dict(a_reserve=(1_000, 1_000_000), b_reserve=(1_000, 1_000_000), whale=(100, 100_000), fee=float_slider)\n",
    "pn.interact(single_sand_curve, **kw)"
   ]
  },
  {
   "cell_type": "markdown",
   "metadata": {},
   "source": [
    "Note that the returns decline as the size of the attack increases. Also, the returns are not affected by the `reserves of B` at all! Returns are impacted by the `reserves of A`, the size of the attacker's trade, the size of the `whale trade`, and the `fee`.  "
   ]
  },
  {
   "cell_type": "markdown",
   "metadata": {},
   "source": [
    "# Multiple Sandwich Attackers\n",
    "Now let's derive the optimal order of multiple sandwich attacks on a single whale trade. The parameters `front_asc` and `back_asc` denote if the front- and back-running trades of the sandwich attacks are set in ascending order (by size). If set to `True` (or `1`), the smallest trades are placed first. "
   ]
  },
  {
   "cell_type": "code",
   "execution_count": 8,
   "metadata": {},
   "outputs": [],
   "source": [
    "def multi_sandwich(reserves_a, reserves_b, fee, whale, a_input, front_asc=True, back_asc=True):\n",
    "    '''\n",
    "    set front_asc and/or back_asc to True to put the smallest trades first for frontrun and backrun transactions\n",
    "    '''\n",
    "    a_received = [] # number of A tokens received by each trader (at the end of the sandwich attack)\n",
    "    b_received = [] # number of B tokens received by each trader (at the beginnging of the sandwich attack)\n",
    "\n",
    "    if front_asc==False: # front in descending order\n",
    "        a_order = a_input[::-1]\n",
    "    else:\n",
    "        a_order = a_input\n",
    "\n",
    "    # iterate through all front runs\n",
    "    for a in a_order:\n",
    "        b_received_front = swap(a, reserves_a, reserves_b, fee)[0]\n",
    "        b_received.append(b_received_front)\n",
    "        reserves_a = reserves_a + a # update reserves for A and B tokens\n",
    "        reserves_b = reserves_b - b_received_front\n",
    "\n",
    "    # whale trade\n",
    "    b_received_whale = swap(whale, reserves_a, reserves_b, fee)[0]\n",
    "    reserves_a = reserves_a + whale # update reserves for A and B tokens\n",
    "    reserves_b = reserves_b - b_received_whale\n",
    "\n",
    "    if front_asc != back_asc: # back_asc==False:\n",
    "        b_received = b_received[::-1]\n",
    "\n",
    "    # iterate through all back runs -- get A tokens back\n",
    "    for b in b_received:\n",
    "        a_received_back = swap(b, reserves_b, reserves_a, fee)[0]\n",
    "        a_received.append(a_received_back)\n",
    "        reserves_a = reserves_a - a_received_back\n",
    "        reserves_b = reserves_b + b_received_front\n",
    "\n",
    "    if back_asc==False: # adjust order of a_received if necessary\n",
    "        a_received = a_received[::-1]\n",
    "\n",
    "    returns = [a_out/a_in - 1 for a_out, a_in in zip(a_received, a_input)]\n",
    "    mean_return = np.mean(returns)\n",
    "    stdev = np.std(returns)\n",
    "\n",
    "    return mean_return, stdev, returns"
   ]
  },
  {
   "cell_type": "code",
   "execution_count": 43,
   "metadata": {},
   "outputs": [
    {
     "data": {
      "application/vnd.jupyter.widget-view+json": {
       "model_id": "5fefa84dd735430fa0ea511624027b97",
       "version_major": 2,
       "version_minor": 0
      },
      "text/plain": [
       "BokehModel(combine_events=True, render_bundle={'docs_json': {'32a82368-8dd2-4805-82e3-6c6e558ca9a5': {'defs': …"
      ]
     },
     "metadata": {},
     "output_type": "display_data"
    },
    {
     "data": {
      "text/html": [
       "<div style=\"display: none\"></div>"
      ],
      "text/plain": [
       "Column\n",
       "    [0] Column\n",
       "        [0] IntSlider(end=1000000, name='a_reserve', start=1000, value=1000000)\n",
       "        [1] IntSlider(end=1000000, name='b_reserve', start=1000, value=1000000)\n",
       "        [2] IntSlider(end=100000, name='whale', start=100, value=10000)\n",
       "        [3] FloatSlider(end=0.01, format='1[.]000', name='fee', step=0.001)\n",
       "        [4] IntSlider(name='front_asc', value=True)\n",
       "        [5] IntSlider(name='back_asc', value=True)\n",
       "    [1] Row\n",
       "        [0] Matplotlib(Figure, name='interactive00505')"
      ]
     },
     "execution_count": 43,
     "metadata": {},
     "output_type": "execute_result"
    },
    {
     "data": {
      "text/plain": [
       "<Figure size 432x288 with 0 Axes>"
      ]
     },
     "metadata": {},
     "output_type": "display_data"
    }
   ],
   "source": [
    "def multi_sand_plot(df_):\n",
    "    fig = Figure()\n",
    "    fig.set_size_inches(12, 8)\n",
    "    FigureCanvas(fig)\n",
    "    ax = fig.add_subplot()    \n",
    "    ax.set_xlabel('Size of Sandwich Attack (in A Tokens)')\n",
    "    ax.set_ylabel('Return to Searchers')\n",
    "\n",
    "    returns = df_['returns to searchers']\n",
    "        \n",
    "    returns.plot.bar(ax=ax)\n",
    "\n",
    "    anchored_text1 = AnchoredText(f\"Average Return: {df_['returns to searchers'].mean():,.3%}\", loc=2)\n",
    "    anchored_text2 = AnchoredText(f\"StDev of Returns: {df_['returns to searchers'].std():,.3%}\", loc=1)\n",
    "    ax.add_artist(anchored_text1)\n",
    "    ax.add_artist(anchored_text2)\n",
    "\n",
    "    ax.set_xticks(ax.get_xticks(), ax.get_xticklabels(), rotation=35, ha='right')\n",
    "\n",
    "    plt.tight_layout()\n",
    "    \n",
    "    return fig\n",
    "\n",
    "# assume size of attacks is normally distributed around, say, 2500\n",
    "attack_sizes =  np.random.normal(loc=2500, scale=500, size=20) # normally distributed around 2500, stdev of 500, 20 values\n",
    "attack_sizes = sorted([int(a) for a in attack_sizes])\n",
    "\n",
    "def multi_sand_data(a_reserve=1_000_000, b_reserve=1_000_000, whale=10_000, fee=0.0000, front_asc=True, back_asc=True, view_fn=multi_sand_plot):\n",
    "    # attack_sizes = np.arange(100, whale*0.50, (whale*0.50 - 100) / 10).tolist()\n",
    "    # attack_sizes =  np.arange(500, 5000, 500).tolist()\n",
    "    mean_return, std_return, returns = multi_sandwich(a_reserve, b_reserve, fee, whale, attack_sizes, front_asc, back_asc)\n",
    "    df_ = pd.DataFrame(\n",
    "        data = {\"returns to searchers\": returns, \"mean return\":[mean_return] * len(returns), \"stdev return\": [std_return] * len(returns)}, \n",
    "        index = attack_sizes)\n",
    "    return view_fn(df_)\n",
    "\n",
    "# set ranges of parameters\n",
    "float_slider = pn.widgets.FloatSlider(name='fee', format='1[.]000', start=0.00, end=0.010, step=0.001, value=0.00)\n",
    "kw = dict(a_reserve=(1_000, 100_0000), b_reserve=(1_000, 100_0000), whale=(100, 100_000), fee=float_slider, front_asc=(0, 1), back_asc=(0, 1))\n",
    "pn.interact(multi_sand_data, **kw)\n",
    "\n",
    "# class MultiSandwich(param.Parameterized):\n",
    "#     FrontRun_Order = param.Selector(objects=[True, False])\n",
    "#     BackRun_Order = param.Selector(objects=[True, False])\n",
    "#     a_reserve=param.Integer(default=1_000_000, bounds=(1_000, 1_000_000))\n",
    "#     b_reserve=param.Integer(default=1_000_000, bounds=(1_000, 1_000_000))\n",
    "#     whale=param.Integer(default=100_000, bounds=(100, 1_000_000))\n",
    "#     fee=param.Number(default=0.000, bounds=(0.000, 0.001))\n",
    "\n",
    "#     def view(self):\n",
    "#         return multi_sand_data(self.a_reserve, self.b_reserve, self.whale, self.fee, self.FrontRun_Order, self.BackRun_Order)\n",
    "\n",
    "# obj = MultiSandwich()\n",
    "# pn.Row(obj.param, obj.view)"
   ]
  },
  {
   "cell_type": "markdown",
   "metadata": {},
   "source": [
    "### Takeaways for multiple sandwich attacks on the same whale trade\n",
    "\n",
    "- Not surprisingly, any given searcher will want to be first at the front-run and the back-run transactions. They benefit the most from the run-up in price due to multiple traders buying up token B, and then they are the first to exit the trade (thereby avoiding the price decline in token B driven by selling pressure).\n",
    "- The larger the searcher is, the more they are negatively impacted by being placed later in the queue for both the front- and back-run transactions.\n",
    "- If all searchers were to cooperate, the optimal solution for the group is usually to use a **descending order for the front-run trades, and an ascending order for the back-run trades**. This configuration leads to the highest or second highest average return for the group, and the lowest standard deviation of returns (i.e., a 'democratized' outcome)."
   ]
  },
  {
   "cell_type": "markdown",
   "metadata": {},
   "source": [
    "# Sources:  \n",
    "https://arxiv.org/pdf/2012.08040.pdf  \n",
    "https://blog.coinfabrik.com/cryptocurrency/automated-market-making-mechanisms-and-issues-in-uniswap-balancer-and-curve/  \n",
    "https://ethereum.stackexchange.com/questions/102063/understand-price-impact-and-liquidity-in-pancakeswap  \n",
    "https://dailydefi.org/articles/price-impact-and-how-to-calculate/  "
   ]
  }
 ],
 "metadata": {
  "interpreter": {
   "hash": "7022ce266412d6d6290678afc28a2fe57da1975eb832bcd465a1c0df8806751c"
  },
  "kernelspec": {
   "display_name": "Python 3.8.9 ('sand-env': venv)",
   "language": "python",
   "name": "python3"
  },
  "language_info": {
   "codemirror_mode": {
    "name": "ipython",
    "version": 3
   },
   "file_extension": ".py",
   "mimetype": "text/x-python",
   "name": "python",
   "nbconvert_exporter": "python",
   "pygments_lexer": "ipython3",
   "version": "3.8.9"
  },
  "orig_nbformat": 4
 },
 "nbformat": 4,
 "nbformat_minor": 2
}
